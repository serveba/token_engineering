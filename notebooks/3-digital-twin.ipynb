{
 "cells": [
  {
   "cell_type": "markdown",
   "metadata": {},
   "source": [
    "# Digital Twin - Constant product AMM\n"
   ]
  },
  {
   "cell_type": "code",
   "execution_count": 92,
   "metadata": {},
   "outputs": [],
   "source": [
    "import copy\n",
    "import json\n",
    "\n",
    "def init_genesis():\n",
    "    return  {\n",
    "        \"AMM\":{\"r_1\":100,\"r_2\":100,\"s\":100,\"fee\":0.00},\n",
    "        \"Trader\":{\"r_1\":100,\"r_2\":100,\"s\":0},\n",
    "        \"LP\":{\"r_1\":0,\"r_2\":0,\"s\":100}\n",
    "    }\n",
    "\n",
    "def swapToAsset1(state,inputs):\n",
    "    agent = inputs[0]\n",
    "    dA2 = inputs[1]\n",
    "    feeFactor = (1-state[\"AMM\"][\"fee\"])\n",
    "    dA1 = state[\"AMM\"][\"r_1\"]/(state[\"AMM\"][\"r_2\"]+dA2*feeFactor)*dA2*feeFactor\n",
    "    if dA2>0 and state[agent][\"r_2\"]-dA2 >= 0 :\n",
    "        state[\"AMM\"][\"r_2\"]+=dA2\n",
    "        state[agent][\"r_2\"]-=dA2\n",
    "        state[\"AMM\"][\"r_1\"]-=dA1\n",
    "        state[agent][\"r_1\"]+=dA1\n",
    "\n",
    "def swapToAsset2(state,inputs):\n",
    "    agent = inputs[0]\n",
    "    dA1 = inputs[1]\n",
    "    feeFactor = (1-state[\"AMM\"][\"fee\"])\n",
    "    dA2 = state[\"AMM\"][\"r_2\"]/(state[\"AMM\"][\"r_1\"]+dA1*feeFactor)*dA1*feeFactor\n",
    "    if dA1>0 and state[agent][\"r_1\"]-dA1 >= 0 :\n",
    "        state[\"AMM\"][\"r_1\"]+=dA1\n",
    "        state[agent][\"r_1\"]-=dA1\n",
    "        state[\"AMM\"][\"r_2\"]-=dA2\n",
    "        state[agent][\"r_2\"]+=dA2\n",
    "\n",
    "def addLiquidity(state,inputs):\n",
    "    agent = inputs[0]\n",
    "    R1=state[\"AMM\"][\"r_1\"]\n",
    "    R2=state[\"AMM\"][\"r_2\"]\n",
    "    S= state[\"AMM\"][\"s\"]\n",
    "    dA1=min(inputs[1],R1/R2*inputs[2])\n",
    "    dA2=min(inputs[2],R2/R1*inputs[1])\n",
    "    if (dA1 <= state[agent][\"r_1\"] and dA2 <= state[agent][\"r_2\"]) and (dA1 > 0 and dA2 > 0):\n",
    "        state[agent][\"r_1\"]-=dA1\n",
    "        state[agent][\"r_2\"]-=dA2\n",
    "        state[\"AMM\"][\"r_1\"]+=dA1\n",
    "        state[\"AMM\"][\"r_2\"]+=dA2\n",
    "        dS = min(dA1/R1, dA2/R2) * S\n",
    "        state[\"AMM\"][\"s\"] += dS\n",
    "        state[agent][\"s\"]+=dS\n",
    "\n",
    "def removeLiquidity(state,inputs):\n",
    "    dS = inputs[1]\n",
    "    agent = inputs[0]\n",
    "    if dS > 0 and state[agent][\"s\"]-dS>=0 and state[\"AMM\"][\"s\"]-dS>=0:\n",
    "        DR = (1-dS/state[\"AMM\"][\"s\"])\n",
    "        R1=state[\"AMM\"][\"r_1\"]\n",
    "        R2=state[\"AMM\"][\"r_2\"]\n",
    "        state[agent][\"s\"]-=dS\n",
    "        state[\"AMM\"][\"r_1\"]=R1*DR\n",
    "        state[\"AMM\"][\"r_2\"]=R2*DR\n",
    "        state[agent][\"r_1\"]+=R1-state[\"AMM\"][\"r_1\"]\n",
    "        state[agent][\"r_2\"]+=R2-state[\"AMM\"][\"r_2\"]\n",
    "        state[\"AMM\"][\"s\"]-=dS\n",
    "\n",
    "def pretty_print(obj):\n",
    "    print(json.dumps(obj, sort_keys=True, indent=4))\n",
    "\n",
    "def nice_print(self):\n",
    "    if type(self)==float:\n",
    "        return  round(self,3)\n",
    "    if type(self)==int:\n",
    "        return  self\n",
    "    if type(self)==list:\n",
    "        return  list(map(lambda l: print(l),self))\n",
    "    if type(self)==dict:\n",
    "        return  dict(map(lambda kv: (kv[0], print(kv[1])),self.items()))\n",
    "\n",
    "def evolve(state, actionStack):\n",
    "    history = [copy.deepcopy(state)]\n",
    "    for action in actionStack:\n",
    "        action[0](state,action[1])\n",
    "        history.append(copy.deepcopy(state))\n",
    "    return history "
   ]
  },
  {
   "cell_type": "markdown",
   "metadata": {},
   "source": [
    "### Testing the swapToAsset2 function\n",
    "\n",
    "We create a genesis state with:\n",
    "\n",
    "- the AMM having 100 Token 1, 100 Token 2, 100 pool shares, and a fee of 0.0\n",
    "- the Trader having 100 Token 1, 100 Token 2, and no pool shares\n",
    "- the Liquidity Provider has 0 Token 1, 0 Token 2, and 100 pool shares\n",
    "Then we apply the swapToAsset2 function and look at the new genesis state by typing genesis\n",
    "\n",
    "which will print the values of the variables to the screen. "
   ]
  },
  {
   "cell_type": "code",
   "execution_count": 93,
   "metadata": {},
   "outputs": [
    {
     "name": "stdout",
     "output_type": "stream",
     "text": [
      "{\n",
      "    \"AMM\": {\n",
      "        \"fee\": 0.0,\n",
      "        \"r_1\": 110,\n",
      "        \"r_2\": 90.9090909090909,\n",
      "        \"s\": 100\n",
      "    },\n",
      "    \"LP\": {\n",
      "        \"r_1\": 0,\n",
      "        \"r_2\": 0,\n",
      "        \"s\": 100\n",
      "    },\n",
      "    \"Trader\": {\n",
      "        \"r_1\": 90,\n",
      "        \"r_2\": 109.0909090909091,\n",
      "        \"s\": 0\n",
      "    }\n",
      "}\n"
     ]
    }
   ],
   "source": [
    "# test 1\n",
    "state = init_genesis()\n",
    "swapToAsset2(state,[\"Trader\",10])\n",
    "pretty_print(state)"
   ]
  },
  {
   "cell_type": "markdown",
   "metadata": {},
   "source": [
    "Lets now take a look at a more elaborate state transition and perform two different swaps after one another: we append exactly the swap in opposite direction expecting that this restores the state."
   ]
  },
  {
   "cell_type": "code",
   "execution_count": 94,
   "metadata": {},
   "outputs": [
    {
     "name": "stdout",
     "output_type": "stream",
     "text": [
      "{\n",
      "    \"AMM\": {\n",
      "        \"fee\": 0.0,\n",
      "        \"r_1\": 99.99999999999999,\n",
      "        \"r_2\": 100.0,\n",
      "        \"s\": 100\n",
      "    },\n",
      "    \"LP\": {\n",
      "        \"r_1\": 0,\n",
      "        \"r_2\": 0,\n",
      "        \"s\": 100\n",
      "    },\n",
      "    \"Trader\": {\n",
      "        \"r_1\": 100.00000000000001,\n",
      "        \"r_2\": 100.0,\n",
      "        \"s\": 0\n",
      "    }\n",
      "}\n"
     ]
    }
   ],
   "source": [
    "state = init_genesis()\n",
    "\n",
    "swapToAsset2(state,[\"Trader\",10])\n",
    "swapToAsset1(state,[\"Trader\",9.0909090909091])\n",
    "\n",
    "pretty_print(state)"
   ]
  },
  {
   "cell_type": "markdown",
   "metadata": {},
   "source": [
    "Create an actionList that represents the following actions (in this order):\n",
    "\n",
    "1. The trader puts 50 Asset 1 to the AMM, in exchange for Asset 2\n",
    "\n",
    "2. The trader deposits 25 Asset 2 to the AMM, in exchange for Asset 1\n",
    "\n",
    "How much of Asset 1 does the trader have at this point? Might this surprise the Trader? "
   ]
  },
  {
   "cell_type": "code",
   "execution_count": 95,
   "metadata": {},
   "outputs": [
    {
     "data": {
      "text/plain": [
       "108.33333333333331"
      ]
     },
     "execution_count": 95,
     "metadata": {},
     "output_type": "execute_result"
    }
   ],
   "source": [
    "# test 3\n",
    "state = init_genesis()\n",
    "actionList = [\n",
    "        [ swapToAsset1 ,  [\"Trader\", 50.0] ],\n",
    "        [ swapToAsset2 ,  [\"Trader\", 25.0] ]\n",
    "]\n",
    "evolve(state, actionList)\n",
    "#pretty_print(genesis)\n",
    "\n",
    "# How much of Asset 1 does the trader have at this point? Might this surprise the Trader?  \n",
    "state[\"Trader\"][\"r_1\"]"
   ]
  },
  {
   "cell_type": "markdown",
   "metadata": {},
   "source": [
    "### Try Another One\n",
    "\n",
    "As the code is currently written, it would be possible for a careless user to input a genesis block that contained) invalid information (such as a negative value for the tokens). Write a function called check_genesis_block that returns True if all inputs to the genesis block are valid, and False if there are invalid inputs. \n",
    "\n",
    "You can check that your function works as intended by creating three examples that are invalid in some way, and being sure that your function "
   ]
  },
  {
   "cell_type": "code",
   "execution_count": 96,
   "metadata": {},
   "outputs": [
    {
     "name": "stdout",
     "output_type": "stream",
     "text": [
      "True\n"
     ]
    }
   ],
   "source": [
    "def check_genesis_block(state):\n",
    "    return state[\"AMM\"][\"r_1\"] >= 0 and \\\n",
    "        state[\"AMM\"][\"r_2\"] >= 0 and \\\n",
    "        state[\"AMM\"][\"s\"] >= 0 and \\\n",
    "        state[\"AMM\"][\"fee\"] >= 0 and \\\n",
    "        state[\"Trader\"][\"r_1\"] >= 0 and \\\n",
    "        state[\"Trader\"][\"r_2\"] >= 0 and \\\n",
    "        state[\"Trader\"][\"s\"] >= 0 and \\\n",
    "        state[\"LP\"][\"r_1\"] >= 0 and \\\n",
    "        state[\"LP\"][\"r_2\"] >= 0 and \\\n",
    "        state[\"LP\"][\"s\"] >= 0\n",
    "\n",
    "state = init_genesis()\n",
    "print(check_genesis_block(state))"
   ]
  },
  {
   "cell_type": "markdown",
   "metadata": {},
   "source": [
    "### Updating Pool Fees\n",
    "\n",
    "In this section, we have assumed that the fees for the liquidity pool remain the same as time goes on. Write a function called update_pool_fees that changes the fee charged by the AMM, so we may adjust that in our simulation."
   ]
  },
  {
   "cell_type": "code",
   "execution_count": 97,
   "metadata": {},
   "outputs": [
    {
     "name": "stdout",
     "output_type": "stream",
     "text": [
      "{'AMM': {'r_1': 100, 'r_2': 100, 's': 100, 'fee': 0.3}, 'Trader': {'r_1': 100, 'r_2': 100, 's': 0}, 'LP': {'r_1': 0, 'r_2': 0, 's': 100}}\n"
     ]
    }
   ],
   "source": [
    "def update_pool_fees(state, new_fee):\n",
    "    state[\"AMM\"][\"fee\"] = new_fee\n",
    "\n",
    "state = init_genesis()\n",
    "update_pool_fees(state, 0.3)\n",
    "print(state)"
   ]
  },
  {
   "cell_type": "markdown",
   "metadata": {},
   "source": [
    "### Trading a Percentage of the Wallet\n",
    "\n",
    "In this section, we have assumed that the user wanted to swap a particular amount of tokens. What if instead we want the user to be able to swap a certain percentage of their holdings?\n",
    "\n",
    " Write a function called swapToAsset2_pct that swaps a certain percentage of the user's Asset 1 funds in exchange for Asset 2 \n",
    "\n",
    "(Hint: Write a helper function called pctToAmount that converts percent to amount, and then can call the swapToAsset2 function."
   ]
  },
  {
   "cell_type": "code",
   "execution_count": 98,
   "metadata": {},
   "outputs": [
    {
     "name": "stdout",
     "output_type": "stream",
     "text": [
      "{'AMM': {'r_1': 103.0, 'r_2': 97.0873786407767, 's': 100, 'fee': 0.0}, 'Trader': {'r_1': 97.0, 'r_2': 102.9126213592233, 's': 0}, 'LP': {'r_1': 0, 'r_2': 0, 's': 100}}\n"
     ]
    }
   ],
   "source": [
    "def pctToAmount(state, pct):\n",
    "    if pct > 100:\n",
    "        pct = 100\n",
    "    elif pct < 0:\n",
    "        pct = 0\n",
    "\n",
    "    pct = pct / 100\n",
    "    return state[\"Trader\"][\"r_1\"]*pct\n",
    "\n",
    "def swapToAsset2_pct(state, inputs):\n",
    "    inputs[1] = pctToAmount(state, inputs[1])\n",
    "    return swapToAsset2(state, inputs)\n",
    "\n",
    "genesis = init_genesis()\n",
    "swapToAsset2_pct(genesis, [\"Trader\", 3])\n",
    "print(genesis)\n"
   ]
  },
  {
   "cell_type": "markdown",
   "metadata": {},
   "source": [
    "### Pretty Print in Fiat Values\n",
    "\n",
    "In this section, we have been completely agnostic as to the underlying value that a user's token holding may have in terms of a reference currency such as USD or EURO. Write a function fiat_print_holdings that takes in the names and prices of the tokens as a dictionary, then gives the value of the user's portfolio in the reference currency."
   ]
  },
  {
   "cell_type": "code",
   "execution_count": 99,
   "metadata": {},
   "outputs": [
    {
     "data": {
      "text/plain": [
       "800"
      ]
     },
     "execution_count": 99,
     "metadata": {},
     "output_type": "execute_result"
    }
   ],
   "source": [
    "def fiat_print_holdings(state, agent, token_1, token_2, ref_currency):\n",
    "    token_1_amount = state[agent][token_1[\"name\"]]*token_1[\"price\"]\n",
    "    token_2_amount = state[agent][token_2[\"name\"]]*token_2[\"price\"]\n",
    "    return  token_1_amount + token_2_amount\n",
    "\n",
    "state = init_genesis()\n",
    "token_1 = {\"name\": \"r_1\", \"price\": 5}\n",
    "token_2 = {\"name\":\"r_2\", \"price\": 3}\n",
    "fiat_print_holdings(state, \"Trader\", token_1, token_2 , \"USD\") "
   ]
  },
  {
   "cell_type": "markdown",
   "metadata": {},
   "source": [
    "Since the trader has holdings equivalent to 800 USD. \n",
    "This allows us to simulate impermanent loss by considering the fact that the value of the assets the trader holds may change."
   ]
  },
  {
   "cell_type": "markdown",
   "metadata": {},
   "source": [
    "### Verifying the Digital Twin\n",
    "\n",
    "To trust the results of the digital twin, we need to be completely sure that it captures the behavior of the system we designed. \n",
    "\n",
    "Looking at our finished digital Twin, we want to be sure: does it really behave as it is meant to? This needs to be verified. To do so, we create simple test scenarios through which our simulations can run. These scenarios should be simple enough that we can verify them by hand. Let us recall what we expect from a well-coded digital Twin according to the business requirements:\n",
    "\n",
    "**During a swap action,**\n",
    "- the invariant shall remain unchanged (assuming no fees)\n",
    "- the total number of tokens of Asset 1 in the system shall be unchanged\n",
    "- the total number of tokens of Asset 2 in the system shall be unchanged\n",
    "- given a specific amount of one Asset the correct amount of the other Asset shall be returned.\n",
    "\n",
    "**During a liquidity removal**\n",
    "- the total number of tokens of Asset 1 shall be unchanged,\n",
    "- the total number of tokens of Asset 2 shall be unchanged,\n",
    "- the correct number of shares shall be taken and burned,\n",
    "- the correct amount of each Asset shall be transferred.\n",
    "\n",
    "**During a liquidity insertion**\n",
    "- the total number of tokens of Asset 1 shall be unchanged,\n",
    "- the total number of tokens of Asset 2 shall be unchanged,\n",
    "- the correct number of shares shall be minted and distributed,\n",
    "the correct amount of each Asset shall be transferred.\n",
    "\n",
    "For each of these requirements we need to think about good test scenarios that our digital Twin can simulate. Looking at the list above we see that the some of the actions have requirements in common.\n",
    "\n",
    "Checking that the invariant is preserved during swap actions requires a calculation of the invariant for a given state. \n",
    "The conservation of tokens can be easily checked by counting them. \n",
    "\n",
    "Let's define three helpful functions:\n",
    "- invariant\n",
    "- asset1\n",
    "- asset2"
   ]
  },
  {
   "cell_type": "code",
   "execution_count": 100,
   "metadata": {},
   "outputs": [],
   "source": [
    "# it returns k, the invariant of the AMM \n",
    "def invariant(state):\n",
    "    return state[\"AMM\"][\"r_1\"] * state[\"AMM\"][\"r_2\"]\n",
    "\n",
    "# how many asset1 do we have in the state\n",
    "def asset1(state):\n",
    "    return state[\"AMM\"][\"r_1\"]+state[\"Trader\"][\"r_1\"]+state[\"LP\"][\"r_1\"]\n",
    "\n",
    "# how many asset2 do we have in the state\n",
    "def asset2(state):\n",
    "    return state[\"AMM\"][\"r_2\"]+state[\"Trader\"][\"r_2\"]+state[\"LP\"][\"r_2\"]"
   ]
  },
  {
   "cell_type": "markdown",
   "metadata": {},
   "source": [
    "First, let's use the invariant function to see if things work as intended. "
   ]
  },
  {
   "cell_type": "code",
   "execution_count": 101,
   "metadata": {},
   "outputs": [
    {
     "data": {
      "text/plain": [
       "True"
      ]
     },
     "execution_count": 101,
     "metadata": {},
     "output_type": "execute_result"
    }
   ],
   "source": [
    "genesis = init_genesis()\n",
    "\n",
    "state = copy.deepcopy(genesis)\n",
    "\n",
    "swapToAsset2(state,[\"Trader\",13])\n",
    "\n",
    "invariant(genesis)==invariant(state)"
   ]
  },
  {
   "cell_type": "markdown",
   "metadata": {},
   "source": [
    "### Verifying the System (and the Test) \n",
    "\n",
    "That is, we just create a genesis state which is then copied into the variable state that evolves through the swap action. In the last line we just check whether or not the invariance is identical for genesis state and evolved state. As can be expected, this test returns True. The same test can be performed for a swap in opposite direction. \n",
    "\n",
    "Keep in mind that the invariant is only preserved as long as there are no fees. Knowing scenarios in which the tests fail is important to verify also that the test in fact can fail: whenever possible, test the test!\n",
    "\n",
    "You Try It: Verify that the test for preserved liquidity fails if nonzero fees are set."
   ]
  },
  {
   "cell_type": "code",
   "execution_count": 102,
   "metadata": {},
   "outputs": [
    {
     "data": {
      "text/plain": [
       "False"
      ]
     },
     "execution_count": 102,
     "metadata": {},
     "output_type": "execute_result"
    }
   ],
   "source": [
    "genesis = init_genesis()\n",
    "\n",
    "state = copy.deepcopy(genesis)\n",
    "\n",
    "update_pool_fees(state, 0.3)\n",
    "\n",
    "swapToAsset2(state,[\"Trader\",13])\n",
    "\n",
    "invariant(genesis)==invariant(state)"
   ]
  },
  {
   "cell_type": "markdown",
   "metadata": {},
   "source": [
    "Now let's look at conservation of number of tokens in the system. "
   ]
  },
  {
   "cell_type": "code",
   "execution_count": 103,
   "metadata": {},
   "outputs": [
    {
     "data": {
      "text/plain": [
       "True"
      ]
     },
     "execution_count": 103,
     "metadata": {},
     "output_type": "execute_result"
    }
   ],
   "source": [
    "state = init_genesis()\n",
    "\n",
    "swapToAsset1(state,[\"Trader\",13])\n",
    "\n",
    "asset1(genesis)==asset1(state) and asset2(genesis)==asset2(state)"
   ]
  },
  {
   "cell_type": "markdown",
   "metadata": {},
   "source": [
    "Testing Individually or In Tandem\n",
    "\n",
    "In the code block above, we combined the test for the asset1 and asset2 function. \n",
    "\n",
    "If we repeat the test for every state transition function we have coded, we can verify token conservation individually. We can also make sure this test will fail when appropriate by providing manipulated states:"
   ]
  },
  {
   "cell_type": "code",
   "execution_count": 104,
   "metadata": {},
   "outputs": [
    {
     "ename": "KeyError",
     "evalue": "'LP'",
     "output_type": "error",
     "traceback": [
      "\u001b[0;31m---------------------------------------------------------------------------\u001b[0m",
      "\u001b[0;31mKeyError\u001b[0m                                  Traceback (most recent call last)",
      "Cell \u001b[0;32mIn [104], line 13\u001b[0m\n\u001b[1;32m      1\u001b[0m genesis \u001b[39m=\u001b[39m {\n\u001b[1;32m      2\u001b[0m     \u001b[39m\"\u001b[39m\u001b[39mAMM\u001b[39m\u001b[39m\"\u001b[39m:{\u001b[39m\"\u001b[39m\u001b[39mr_1\u001b[39m\u001b[39m\"\u001b[39m:\u001b[39m100\u001b[39m,\u001b[39m\"\u001b[39m\u001b[39mr_2\u001b[39m\u001b[39m\"\u001b[39m:\u001b[39m100\u001b[39m,\u001b[39m\"\u001b[39m\u001b[39ms\u001b[39m\u001b[39m\"\u001b[39m:\u001b[39m100\u001b[39m,\u001b[39m\"\u001b[39m\u001b[39mfee\u001b[39m\u001b[39m\"\u001b[39m:\u001b[39m0.0\u001b[39m},\n\u001b[1;32m      3\u001b[0m     \u001b[39m\"\u001b[39m\u001b[39mTrader\u001b[39m\u001b[39m\"\u001b[39m:{\u001b[39m\"\u001b[39m\u001b[39mr_1\u001b[39m\u001b[39m\"\u001b[39m:\u001b[39m100\u001b[39m,\u001b[39m\"\u001b[39m\u001b[39mr_2\u001b[39m\u001b[39m\"\u001b[39m:\u001b[39m100\u001b[39m,\u001b[39m\"\u001b[39m\u001b[39ms\u001b[39m\u001b[39m\"\u001b[39m:\u001b[39m0\u001b[39m},\n\u001b[1;32m      4\u001b[0m     \u001b[39m\"\u001b[39m\u001b[39mLiquidator\u001b[39m\u001b[39m\"\u001b[39m:{\u001b[39m\"\u001b[39m\u001b[39mr_1\u001b[39m\u001b[39m\"\u001b[39m:\u001b[39m0\u001b[39m,\u001b[39m\"\u001b[39m\u001b[39mr_2\u001b[39m\u001b[39m\"\u001b[39m:\u001b[39m0\u001b[39m,\u001b[39m\"\u001b[39m\u001b[39ms\u001b[39m\u001b[39m\"\u001b[39m:\u001b[39m100\u001b[39m}\n\u001b[1;32m      5\u001b[0m     }\n\u001b[1;32m      7\u001b[0m state \u001b[39m=\u001b[39m {\n\u001b[1;32m      8\u001b[0m     \u001b[39m\"\u001b[39m\u001b[39mAMM\u001b[39m\u001b[39m\"\u001b[39m:{\u001b[39m\"\u001b[39m\u001b[39mr_1\u001b[39m\u001b[39m\"\u001b[39m:\u001b[39m100\u001b[39m,\u001b[39m\"\u001b[39m\u001b[39mr_2\u001b[39m\u001b[39m\"\u001b[39m:\u001b[39m100\u001b[39m,\u001b[39m\"\u001b[39m\u001b[39ms\u001b[39m\u001b[39m\"\u001b[39m:\u001b[39m100\u001b[39m,\u001b[39m\"\u001b[39m\u001b[39mfee\u001b[39m\u001b[39m\"\u001b[39m:\u001b[39m0.0\u001b[39m},\n\u001b[1;32m      9\u001b[0m     \u001b[39m\"\u001b[39m\u001b[39mTrader\u001b[39m\u001b[39m\"\u001b[39m:{\u001b[39m\"\u001b[39m\u001b[39mr_1\u001b[39m\u001b[39m\"\u001b[39m:\u001b[39m0\u001b[39m,\u001b[39m\"\u001b[39m\u001b[39mr_2\u001b[39m\u001b[39m\"\u001b[39m:\u001b[39m100\u001b[39m,\u001b[39m\"\u001b[39m\u001b[39ms\u001b[39m\u001b[39m\"\u001b[39m:\u001b[39m0\u001b[39m},\n\u001b[1;32m     10\u001b[0m     \u001b[39m\"\u001b[39m\u001b[39mLiquidator\u001b[39m\u001b[39m\"\u001b[39m:{\u001b[39m\"\u001b[39m\u001b[39mr_1\u001b[39m\u001b[39m\"\u001b[39m:\u001b[39m0\u001b[39m,\u001b[39m\"\u001b[39m\u001b[39mr_2\u001b[39m\u001b[39m\"\u001b[39m:\u001b[39m0\u001b[39m,\u001b[39m\"\u001b[39m\u001b[39ms\u001b[39m\u001b[39m\"\u001b[39m:\u001b[39m100\u001b[39m}\n\u001b[1;32m     11\u001b[0m     }\n\u001b[0;32m---> 13\u001b[0m asset1(genesis)\u001b[39m==\u001b[39masset1(state) \u001b[39mand\u001b[39;00m asset2(genesis)\u001b[39m==\u001b[39masset2(state)\n",
      "Cell \u001b[0;32mIn [100], line 7\u001b[0m, in \u001b[0;36masset1\u001b[0;34m(state)\u001b[0m\n\u001b[1;32m      6\u001b[0m \u001b[39mdef\u001b[39;00m \u001b[39masset1\u001b[39m(state):\n\u001b[0;32m----> 7\u001b[0m     \u001b[39mreturn\u001b[39;00m state[\u001b[39m\"\u001b[39m\u001b[39mAMM\u001b[39m\u001b[39m\"\u001b[39m][\u001b[39m\"\u001b[39m\u001b[39mr_1\u001b[39m\u001b[39m\"\u001b[39m]\u001b[39m+\u001b[39mstate[\u001b[39m\"\u001b[39m\u001b[39mTrader\u001b[39m\u001b[39m\"\u001b[39m][\u001b[39m\"\u001b[39m\u001b[39mr_1\u001b[39m\u001b[39m\"\u001b[39m]\u001b[39m+\u001b[39mstate[\u001b[39m\"\u001b[39;49m\u001b[39mLP\u001b[39;49m\u001b[39m\"\u001b[39;49m][\u001b[39m\"\u001b[39m\u001b[39mr_1\u001b[39m\u001b[39m\"\u001b[39m]\n",
      "\u001b[0;31mKeyError\u001b[0m: 'LP'"
     ]
    }
   ],
   "source": [
    "genesis = {\n",
    "    \"AMM\":{\"r_1\":100,\"r_2\":100,\"s\":100,\"fee\":0.0},\n",
    "    \"Trader\":{\"r_1\":100,\"r_2\":100,\"s\":0},\n",
    "    \"Liquidator\":{\"r_1\":0,\"r_2\":0,\"s\":100}\n",
    "    }\n",
    "\n",
    "state = {\n",
    "    \"AMM\":{\"r_1\":100,\"r_2\":100,\"s\":100,\"fee\":0.0},\n",
    "    \"Trader\":{\"r_1\":0,\"r_2\":100,\"s\":0},\n",
    "    \"Liquidator\":{\"r_1\":0,\"r_2\":0,\"s\":100}\n",
    "    }\n",
    "    \n",
    "asset1(genesis)==asset1(state) and asset2(genesis)==asset2(state)"
   ]
  }
 ],
 "metadata": {
  "interpreter": {
   "hash": "31f2aee4e71d21fbe5cf8b01ff0e069b9275f58929596ceb00d14d90e3e16cd6"
  },
  "kernelspec": {
   "display_name": "Python 3.8.9 64-bit",
   "language": "python",
   "name": "python3"
  },
  "language_info": {
   "codemirror_mode": {
    "name": "ipython",
    "version": 3
   },
   "file_extension": ".py",
   "mimetype": "text/x-python",
   "name": "python",
   "nbconvert_exporter": "python",
   "pygments_lexer": "ipython3",
   "version": "3.9.6"
  },
  "varInspector": {
   "cols": {
    "lenName": 16,
    "lenType": 16,
    "lenVar": 40
   },
   "kernels_config": {
    "python": {
     "delete_cmd_postfix": "",
     "delete_cmd_prefix": "del ",
     "library": "var_list.py",
     "varRefreshCmd": "print(var_dic_list())"
    },
    "r": {
     "delete_cmd_postfix": ") ",
     "delete_cmd_prefix": "rm(",
     "library": "var_list.r",
     "varRefreshCmd": "cat(var_dic_list()) "
    }
   },
   "types_to_exclude": [
    "module",
    "function",
    "builtin_function_or_method",
    "instance",
    "_Feature"
   ],
   "window_display": false
  }
 },
 "nbformat": 4,
 "nbformat_minor": 4
}
