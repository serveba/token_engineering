{
 "cells": [
  {
   "cell_type": "markdown",
   "metadata": {},
   "source": [
    "# Digital Twin\n",
    "\n",
    "## What is constant product AMM?\n",
    "\n"
   ]
  },
  {
   "cell_type": "code",
   "execution_count": 5,
   "metadata": {},
   "outputs": [
    {
     "ename": "TypeError",
     "evalue": "can't multiply sequence by non-int of type 'float'",
     "output_type": "error",
     "traceback": [
      "\u001b[0;31m---------------------------------------------------------------------------\u001b[0m",
      "\u001b[0;31mTypeError\u001b[0m                                 Traceback (most recent call last)",
      "Cell \u001b[0;32mIn [5], line 91\u001b[0m\n\u001b[1;32m     78\u001b[0m \u001b[39m# test 1\u001b[39;00m\n\u001b[1;32m     79\u001b[0m \u001b[39m# swapToAsset2(genesis,[\"Trader\",10])\u001b[39;00m\n\u001b[1;32m     80\u001b[0m \u001b[39m# genesis\u001b[39;00m\n\u001b[0;32m   (...)\u001b[0m\n\u001b[1;32m     84\u001b[0m \u001b[39m# swapToAsset1(genesis,[\"Trader\",9.0909090909091])\u001b[39;00m\n\u001b[1;32m     85\u001b[0m \u001b[39m# genesis\u001b[39;00m\n\u001b[1;32m     86\u001b[0m actionList \u001b[39m=\u001b[39m [\n\u001b[1;32m     87\u001b[0m         [ swapToAsset1 , [  genesis , [\u001b[39m\"\u001b[39m\u001b[39mTrader\u001b[39m\u001b[39m\"\u001b[39m, \u001b[39m50\u001b[39m] ]],\n\u001b[1;32m     88\u001b[0m         [ swapToAsset2 , [  genesis , [\u001b[39m\"\u001b[39m\u001b[39mTrader\u001b[39m\u001b[39m\"\u001b[39m, \u001b[39m25\u001b[39m] ]]\n\u001b[1;32m     89\u001b[0m ]\n\u001b[0;32m---> 91\u001b[0m evolve(genesis, actionList)\n",
      "Cell \u001b[0;32mIn [5], line 74\u001b[0m, in \u001b[0;36mevolve\u001b[0;34m(state, actionStack)\u001b[0m\n\u001b[1;32m     72\u001b[0m history \u001b[39m=\u001b[39m [copy\u001b[39m.\u001b[39mdeepcopy(state)]\n\u001b[1;32m     73\u001b[0m \u001b[39mfor\u001b[39;00m action \u001b[39min\u001b[39;00m actionStack:\n\u001b[0;32m---> 74\u001b[0m     action[\u001b[39m0\u001b[39;49m](state,action[\u001b[39m1\u001b[39;49m])\n\u001b[1;32m     75\u001b[0m     history\u001b[39m.\u001b[39mappend(copy\u001b[39m.\u001b[39mdeepcopy(state))\n\u001b[1;32m     76\u001b[0m \u001b[39mreturn\u001b[39;00m history\n",
      "Cell \u001b[0;32mIn [5], line 24\u001b[0m, in \u001b[0;36mswapToAsset1\u001b[0;34m(state, inputs)\u001b[0m\n\u001b[1;32m     22\u001b[0m dA2 \u001b[39m=\u001b[39m inputs[\u001b[39m1\u001b[39m]\n\u001b[1;32m     23\u001b[0m feeFactor \u001b[39m=\u001b[39m (\u001b[39m1\u001b[39m\u001b[39m-\u001b[39mstate[\u001b[39m\"\u001b[39m\u001b[39mAMM\u001b[39m\u001b[39m\"\u001b[39m][\u001b[39m\"\u001b[39m\u001b[39mfee\u001b[39m\u001b[39m\"\u001b[39m])\n\u001b[0;32m---> 24\u001b[0m dA1 \u001b[39m=\u001b[39m state[\u001b[39m\"\u001b[39m\u001b[39mAMM\u001b[39m\u001b[39m\"\u001b[39m][\u001b[39m\"\u001b[39m\u001b[39mr_1\u001b[39m\u001b[39m\"\u001b[39m]\u001b[39m/\u001b[39m(state[\u001b[39m\"\u001b[39m\u001b[39mAMM\u001b[39m\u001b[39m\"\u001b[39m][\u001b[39m\"\u001b[39m\u001b[39mr_2\u001b[39m\u001b[39m\"\u001b[39m]\u001b[39m+\u001b[39mdA2\u001b[39m*\u001b[39;49mfeeFactor)\u001b[39m*\u001b[39mdA2\u001b[39m*\u001b[39mfeeFactor\n\u001b[1;32m     25\u001b[0m \u001b[39mif\u001b[39;00m dA2\u001b[39m>\u001b[39m\u001b[39m0\u001b[39m \u001b[39mand\u001b[39;00m state[agent][\u001b[39m\"\u001b[39m\u001b[39mr_2\u001b[39m\u001b[39m\"\u001b[39m]\u001b[39m-\u001b[39mdA2 \u001b[39m>\u001b[39m\u001b[39m=\u001b[39m \u001b[39m0\u001b[39m :\n\u001b[1;32m     26\u001b[0m     state[\u001b[39m\"\u001b[39m\u001b[39mAMM\u001b[39m\u001b[39m\"\u001b[39m][\u001b[39m\"\u001b[39m\u001b[39mr_2\u001b[39m\u001b[39m\"\u001b[39m]\u001b[39m+\u001b[39m\u001b[39m=\u001b[39mdA2\n",
      "\u001b[0;31mTypeError\u001b[0m: can't multiply sequence by non-int of type 'float'"
     ]
    }
   ],
   "source": [
    "import copy\n",
    "\n",
    "genesis = {\n",
    "    \"AMM\":{\"r_1\":100,\"r_2\":100,\"s\":100,\"fee\":0.00},\n",
    "    \"Trader\":{\"r_1\":100,\"r_2\":100,\"s\":0},\n",
    "    \"LP\":{\"r_1\":0,\"r_2\":0,\"s\":100}\n",
    "}\n",
    "\n",
    "def swapToAsset2(state,inputs):\n",
    "    agent = inputs[0]\n",
    "    dA1 = inputs[1]\n",
    "    feeFactor = (1-state[\"AMM\"][\"fee\"])\n",
    "    dA2 = state[\"AMM\"][\"r_2\"]/(state[\"AMM\"][\"r_1\"]+dA1*feeFactor)*dA1*feeFactor\n",
    "    if dA1>0 and state[agent][\"r_1\"]-dA1 >= 0 :\n",
    "        state[\"AMM\"][\"r_1\"]+=dA1\n",
    "        state[agent][\"r_1\"]-=dA1\n",
    "        state[\"AMM\"][\"r_2\"]-=dA2\n",
    "        state[agent][\"r_2\"]+=dA2\n",
    "\n",
    "def swapToAsset1(state,inputs):\n",
    "    agent = inputs[0]\n",
    "    dA2 = inputs[1]\n",
    "    feeFactor = (1-state[\"AMM\"][\"fee\"])\n",
    "    dA1 = state[\"AMM\"][\"r_1\"]/(state[\"AMM\"][\"r_2\"]+dA2*feeFactor)*dA2*feeFactor\n",
    "    if dA2>0 and state[agent][\"r_2\"]-dA2 >= 0 :\n",
    "        state[\"AMM\"][\"r_2\"]+=dA2\n",
    "        state[agent][\"r_2\"]-=dA2\n",
    "        state[\"AMM\"][\"r_1\"]-=dA1\n",
    "        state[agent][\"r_1\"]+=dA1\n",
    "\n",
    "def addLiquidity(state,inputs):\n",
    "    agent = inputs[0]\n",
    "    R1=state[\"AMM\"][\"r_1\"]\n",
    "    R2=state[\"AMM\"][\"r_2\"]\n",
    "    S= state[\"AMM\"][\"s\"]\n",
    "    dA1=min(inputs[1],R1/R2*inputs[2])\n",
    "    dA2=min(inputs[2],R2/R1*inputs[1])\n",
    "    if (dA1 <= state[agent][\"r_1\"] and dA2 <= state[agent][\"r_2\"]) and (dA1 > 0 and dA2 > 0):\n",
    "        state[agent][\"r_1\"]-=dA1\n",
    "        state[agent][\"r_2\"]-=dA2\n",
    "        state[\"AMM\"][\"r_1\"]+=dA1\n",
    "        state[\"AMM\"][\"r_2\"]+=dA2\n",
    "        dS = min(dA1/R1, dA2/R2) * S\n",
    "        state[\"AMM\"][\"s\"] += dS\n",
    "        state[agent][\"s\"]+=dS\n",
    "\n",
    "def removeLiquidity(state,inputs):\n",
    "    dS = inputs[1]\n",
    "    agent = inputs[0]\n",
    "    if dS > 0 and state[agent][\"s\"]-dS>=0 and state[\"AMM\"][\"s\"]-dS>=0:\n",
    "        DR = (1-dS/state[\"AMM\"][\"s\"])\n",
    "        R1=state[\"AMM\"][\"r_1\"]\n",
    "        R2=state[\"AMM\"][\"r_2\"]\n",
    "        state[agent][\"s\"]-=dS\n",
    "        state[\"AMM\"][\"r_1\"]=R1*DR\n",
    "        state[\"AMM\"][\"r_2\"]=R2*DR\n",
    "        state[agent][\"r_1\"]+=R1-state[\"AMM\"][\"r_1\"]\n",
    "        state[agent][\"r_2\"]+=R2-state[\"AMM\"][\"r_2\"]\n",
    "        state[\"AMM\"][\"s\"]-=dS\n",
    "\n",
    "def invariant(state):\n",
    "    return state[\"AMM\"][\"r_1\"] * state[\"AMM\"][\"r_2\"]\n",
    "\n",
    "def asset1(state):\n",
    "    return state[\"AMM\"][\"r_1\"]+state[\"Trader\"][\"r_1\"]+state[\"LP\"][\"r_1\"]\n",
    "\n",
    "def asset2(state):\n",
    "    return state[\"AMM\"][\"r_2\"]+state[\"Trader\"][\"r_2\"]+state[\"LP\"][\"r_2\"]\n",
    "\n",
    "def nice_print(self):\n",
    "    if type(self)==float:\n",
    "        return  round(self,3)\n",
    "    if type(self)==int:\n",
    "        return  self\n",
    "    if type(self)==list:\n",
    "        return  list(map(lambda l: print(l),self))\n",
    "    if type(self)==dict:\n",
    "        return  dict(map(lambda kv: (kv[0], print(kv[1])),self.items()))\n",
    "\n",
    "def evolve(state, actionStack):\n",
    "    history = [copy.deepcopy(state)]\n",
    "    for action in actionStack:\n",
    "        action[0](state,action[1])\n",
    "        history.append(copy.deepcopy(state))\n",
    "    return history \n",
    "\n",
    "# test 1\n",
    "# swapToAsset2(genesis,[\"Trader\",10])\n",
    "# genesis\n",
    "\n",
    "# test 2\n",
    "# swapToAsset2(genesis,[\"Trader\",10])\n",
    "# swapToAsset1(genesis,[\"Trader\",9.0909090909091])\n",
    "# genesis\n",
    "actionList = [\n",
    "        [ swapToAsset1 , [  genesis , [\"Trader\", 50] ]],\n",
    "        [ swapToAsset2 , [  genesis , [\"Trader\", 25] ]]\n",
    "]\n",
    "\n",
    "evolve(genesis, actionList)\n",
    "\n",
    "\n"
   ]
  }
 ],
 "metadata": {
  "interpreter": {
   "hash": "31f2aee4e71d21fbe5cf8b01ff0e069b9275f58929596ceb00d14d90e3e16cd6"
  },
  "kernelspec": {
   "display_name": "Python 3.8.9 64-bit",
   "language": "python",
   "name": "python3"
  },
  "language_info": {
   "codemirror_mode": {
    "name": "ipython",
    "version": 3
   },
   "file_extension": ".py",
   "mimetype": "text/x-python",
   "name": "python",
   "nbconvert_exporter": "python",
   "pygments_lexer": "ipython3",
   "version": "3.9.6"
  },
  "varInspector": {
   "cols": {
    "lenName": 16,
    "lenType": 16,
    "lenVar": 40
   },
   "kernels_config": {
    "python": {
     "delete_cmd_postfix": "",
     "delete_cmd_prefix": "del ",
     "library": "var_list.py",
     "varRefreshCmd": "print(var_dic_list())"
    },
    "r": {
     "delete_cmd_postfix": ") ",
     "delete_cmd_prefix": "rm(",
     "library": "var_list.r",
     "varRefreshCmd": "cat(var_dic_list()) "
    }
   },
   "types_to_exclude": [
    "module",
    "function",
    "builtin_function_or_method",
    "instance",
    "_Feature"
   ],
   "window_display": false
  }
 },
 "nbformat": 4,
 "nbformat_minor": 4
}
