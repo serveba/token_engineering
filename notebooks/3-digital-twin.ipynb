{
 "cells": [
  {
   "cell_type": "markdown",
   "metadata": {},
   "source": [
    "# Digital Twin - Constant product AMM\n"
   ]
  },
  {
   "cell_type": "code",
   "execution_count": 159,
   "metadata": {},
   "outputs": [],
   "source": [
    "import copy\n",
    "import json\n",
    "import math\n",
    "import matplotlib.pyplot as plt\n",
    "\n",
    "def init_genesis():\n",
    "    return  {\n",
    "        \"AMM\":{\"r_1\":100,\"r_2\":100,\"s\":100,\"fee\":0.00},\n",
    "        \"Trader\":{\"r_1\":100,\"r_2\":100,\"s\":0},\n",
    "        \"LP\":{\"r_1\":0,\"r_2\":0,\"s\":100}\n",
    "    }\n",
    "\n",
    "def swapToAsset1(state,inputs):\n",
    "    agent = inputs[0]\n",
    "    dA2 = inputs[1]\n",
    "    feeFactor = (1-state[\"AMM\"][\"fee\"])\n",
    "    dA1 = state[\"AMM\"][\"r_1\"]/(state[\"AMM\"][\"r_2\"]+dA2*feeFactor)*dA2*feeFactor\n",
    "    if dA2>0 and state[agent][\"r_2\"]-dA2 >= 0 :\n",
    "        state[\"AMM\"][\"r_2\"]+=dA2\n",
    "        state[agent][\"r_2\"]-=dA2\n",
    "        state[\"AMM\"][\"r_1\"]-=dA1\n",
    "        state[agent][\"r_1\"]+=dA1\n",
    "\n",
    "def swapToAsset2(state,inputs):\n",
    "    agent = inputs[0]\n",
    "    dA1 = inputs[1]\n",
    "    feeFactor = (1-state[\"AMM\"][\"fee\"])\n",
    "    dA2 = state[\"AMM\"][\"r_2\"]/(state[\"AMM\"][\"r_1\"]+dA1*feeFactor)*dA1*feeFactor\n",
    "    if dA1>0 and state[agent][\"r_1\"]-dA1 >= 0 :\n",
    "        state[\"AMM\"][\"r_1\"]+=dA1\n",
    "        state[agent][\"r_1\"]-=dA1\n",
    "        state[\"AMM\"][\"r_2\"]-=dA2\n",
    "        state[agent][\"r_2\"]+=dA2\n",
    "\n",
    "def addLiquidity(state,inputs):\n",
    "    agent = inputs[0]\n",
    "    R1=state[\"AMM\"][\"r_1\"]\n",
    "    R2=state[\"AMM\"][\"r_2\"]\n",
    "    S= state[\"AMM\"][\"s\"]\n",
    "    dA1=min(inputs[1],R1/R2*inputs[2])\n",
    "    dA2=min(inputs[2],R2/R1*inputs[1])\n",
    "    if (dA1 <= state[agent][\"r_1\"] and dA2 <= state[agent][\"r_2\"]) and (dA1 > 0 and dA2 > 0):\n",
    "        state[agent][\"r_1\"]-=dA1\n",
    "        state[agent][\"r_2\"]-=dA2\n",
    "        state[\"AMM\"][\"r_1\"]+=dA1\n",
    "        state[\"AMM\"][\"r_2\"]+=dA2\n",
    "        dS = min(dA1/R1, dA2/R2) * S\n",
    "        state[\"AMM\"][\"s\"] += dS\n",
    "        state[agent][\"s\"]+=dS\n",
    "\n",
    "def removeLiquidity(state,inputs):\n",
    "    dS = inputs[1]\n",
    "    agent = inputs[0]\n",
    "    if dS > 0 and state[agent][\"s\"]-dS>=0 and state[\"AMM\"][\"s\"]-dS>=0:\n",
    "        DR = (1-dS/state[\"AMM\"][\"s\"])\n",
    "        R1=state[\"AMM\"][\"r_1\"]\n",
    "        R2=state[\"AMM\"][\"r_2\"]\n",
    "        state[agent][\"s\"]-=dS\n",
    "        state[\"AMM\"][\"r_1\"]=R1*DR\n",
    "        state[\"AMM\"][\"r_2\"]=R2*DR\n",
    "        state[agent][\"r_1\"]+=R1-state[\"AMM\"][\"r_1\"]\n",
    "        state[agent][\"r_2\"]+=R2-state[\"AMM\"][\"r_2\"]\n",
    "        state[\"AMM\"][\"s\"]-=dS\n",
    "\n",
    "def pretty_print(obj):\n",
    "    print(json.dumps(obj, sort_keys=True, indent=4))\n",
    "\n",
    "def nice_print(self):\n",
    "    if type(self)==float:\n",
    "        return  round(self,3)\n",
    "    if type(self)==int:\n",
    "        return  self\n",
    "    if type(self)==list:\n",
    "        return  list(map(lambda l: print(l),self))\n",
    "    if type(self)==dict:\n",
    "        return  dict(map(lambda kv: (kv[0], print(kv[1])),self.items()))\n",
    "\n",
    "def evolve(state, actionStack):\n",
    "    history = [copy.deepcopy(state)]\n",
    "    for action in actionStack:\n",
    "        action[0](state,action[1])\n",
    "        history.append(copy.deepcopy(state))\n",
    "    return history "
   ]
  },
  {
   "cell_type": "markdown",
   "metadata": {},
   "source": [
    "### Testing the swapToAsset2 function\n",
    "\n",
    "We create a genesis state with:\n",
    "\n",
    "- the AMM having 100 Token 1, 100 Token 2, 100 pool shares, and a fee of 0.0\n",
    "- the Trader having 100 Token 1, 100 Token 2, and no pool shares\n",
    "- the Liquidity Provider has 0 Token 1, 0 Token 2, and 100 pool shares\n",
    "Then we apply the swapToAsset2 function and look at the new genesis state by typing genesis\n",
    "\n",
    "which will print the values of the variables to the screen. "
   ]
  },
  {
   "cell_type": "code",
   "execution_count": 160,
   "metadata": {},
   "outputs": [
    {
     "name": "stdout",
     "output_type": "stream",
     "text": [
      "{\n",
      "    \"AMM\": {\n",
      "        \"fee\": 0.0,\n",
      "        \"r_1\": 110,\n",
      "        \"r_2\": 90.9090909090909,\n",
      "        \"s\": 100\n",
      "    },\n",
      "    \"LP\": {\n",
      "        \"r_1\": 0,\n",
      "        \"r_2\": 0,\n",
      "        \"s\": 100\n",
      "    },\n",
      "    \"Trader\": {\n",
      "        \"r_1\": 90,\n",
      "        \"r_2\": 109.0909090909091,\n",
      "        \"s\": 0\n",
      "    }\n",
      "}\n"
     ]
    }
   ],
   "source": [
    "# test 1\n",
    "state = init_genesis()\n",
    "swapToAsset2(state,[\"Trader\",10])\n",
    "pretty_print(state)"
   ]
  },
  {
   "cell_type": "markdown",
   "metadata": {},
   "source": [
    "Lets now take a look at a more elaborate state transition and perform two different swaps after one another: we append exactly the swap in opposite direction expecting that this restores the state."
   ]
  },
  {
   "cell_type": "code",
   "execution_count": 161,
   "metadata": {},
   "outputs": [
    {
     "name": "stdout",
     "output_type": "stream",
     "text": [
      "{\n",
      "    \"AMM\": {\n",
      "        \"fee\": 0.0,\n",
      "        \"r_1\": 99.99999999999999,\n",
      "        \"r_2\": 100.0,\n",
      "        \"s\": 100\n",
      "    },\n",
      "    \"LP\": {\n",
      "        \"r_1\": 0,\n",
      "        \"r_2\": 0,\n",
      "        \"s\": 100\n",
      "    },\n",
      "    \"Trader\": {\n",
      "        \"r_1\": 100.00000000000001,\n",
      "        \"r_2\": 100.0,\n",
      "        \"s\": 0\n",
      "    }\n",
      "}\n"
     ]
    }
   ],
   "source": [
    "state = init_genesis()\n",
    "\n",
    "swapToAsset2(state,[\"Trader\",10])\n",
    "swapToAsset1(state,[\"Trader\",9.0909090909091])\n",
    "\n",
    "pretty_print(state)"
   ]
  },
  {
   "cell_type": "markdown",
   "metadata": {},
   "source": [
    "Create an actionList that represents the following actions (in this order):\n",
    "\n",
    "1. The trader puts 50 Asset 1 to the AMM, in exchange for Asset 2\n",
    "\n",
    "2. The trader deposits 25 Asset 2 to the AMM, in exchange for Asset 1\n",
    "\n",
    "How much of Asset 1 does the trader have at this point? Might this surprise the Trader? "
   ]
  },
  {
   "cell_type": "code",
   "execution_count": 162,
   "metadata": {},
   "outputs": [
    {
     "data": {
      "text/plain": [
       "108.33333333333331"
      ]
     },
     "execution_count": 162,
     "metadata": {},
     "output_type": "execute_result"
    }
   ],
   "source": [
    "# test 3\n",
    "state = init_genesis()\n",
    "actionList = [\n",
    "        [ swapToAsset1 ,  [\"Trader\", 50.0] ],\n",
    "        [ swapToAsset2 ,  [\"Trader\", 25.0] ]\n",
    "]\n",
    "evolve(state, actionList)\n",
    "#pretty_print(genesis)\n",
    "\n",
    "# How much of Asset 1 does the trader have at this point? Might this surprise the Trader?  \n",
    "state[\"Trader\"][\"r_1\"]"
   ]
  },
  {
   "cell_type": "markdown",
   "metadata": {},
   "source": [
    "### Try Another One\n",
    "\n",
    "As the code is currently written, it would be possible for a careless user to input a genesis block that contained) invalid information (such as a negative value for the tokens). Write a function called check_genesis_block that returns True if all inputs to the genesis block are valid, and False if there are invalid inputs. \n",
    "\n",
    "You can check that your function works as intended by creating three examples that are invalid in some way, and being sure that your function "
   ]
  },
  {
   "cell_type": "code",
   "execution_count": 163,
   "metadata": {},
   "outputs": [
    {
     "name": "stdout",
     "output_type": "stream",
     "text": [
      "True\n"
     ]
    }
   ],
   "source": [
    "def check_genesis_block(state):\n",
    "    return state[\"AMM\"][\"r_1\"] >= 0 and \\\n",
    "        state[\"AMM\"][\"r_2\"] >= 0 and \\\n",
    "        state[\"AMM\"][\"s\"] >= 0 and \\\n",
    "        state[\"AMM\"][\"fee\"] >= 0 and \\\n",
    "        state[\"Trader\"][\"r_1\"] >= 0 and \\\n",
    "        state[\"Trader\"][\"r_2\"] >= 0 and \\\n",
    "        state[\"Trader\"][\"s\"] >= 0 and \\\n",
    "        state[\"LP\"][\"r_1\"] >= 0 and \\\n",
    "        state[\"LP\"][\"r_2\"] >= 0 and \\\n",
    "        state[\"LP\"][\"s\"] >= 0\n",
    "\n",
    "state = init_genesis()\n",
    "print(check_genesis_block(state))"
   ]
  },
  {
   "cell_type": "markdown",
   "metadata": {},
   "source": [
    "### Updating Pool Fees\n",
    "\n",
    "In this section, we have assumed that the fees for the liquidity pool remain the same as time goes on. Write a function called update_pool_fees that changes the fee charged by the AMM, so we may adjust that in our simulation."
   ]
  },
  {
   "cell_type": "code",
   "execution_count": 164,
   "metadata": {},
   "outputs": [
    {
     "name": "stdout",
     "output_type": "stream",
     "text": [
      "{'AMM': {'r_1': 100, 'r_2': 100, 's': 100, 'fee': 0.3}, 'Trader': {'r_1': 100, 'r_2': 100, 's': 0}, 'LP': {'r_1': 0, 'r_2': 0, 's': 100}}\n"
     ]
    }
   ],
   "source": [
    "def update_pool_fees(state, new_fee):\n",
    "    state[\"AMM\"][\"fee\"] = new_fee\n",
    "\n",
    "state = init_genesis()\n",
    "update_pool_fees(state, 0.3)\n",
    "print(state)"
   ]
  },
  {
   "cell_type": "markdown",
   "metadata": {},
   "source": [
    "### Trading a Percentage of the Wallet\n",
    "\n",
    "In this section, we have assumed that the user wanted to swap a particular amount of tokens. What if instead we want the user to be able to swap a certain percentage of their holdings?\n",
    "\n",
    " Write a function called swapToAsset2_pct that swaps a certain percentage of the user's Asset 1 funds in exchange for Asset 2 \n",
    "\n",
    "(Hint: Write a helper function called pctToAmount that converts percent to amount, and then can call the swapToAsset2 function."
   ]
  },
  {
   "cell_type": "code",
   "execution_count": 165,
   "metadata": {},
   "outputs": [
    {
     "name": "stdout",
     "output_type": "stream",
     "text": [
      "{'AMM': {'r_1': 103.0, 'r_2': 97.0873786407767, 's': 100, 'fee': 0.0}, 'Trader': {'r_1': 97.0, 'r_2': 102.9126213592233, 's': 0}, 'LP': {'r_1': 0, 'r_2': 0, 's': 100}}\n"
     ]
    }
   ],
   "source": [
    "def pctToAmount(state, pct):\n",
    "    if pct > 100:\n",
    "        pct = 100\n",
    "    elif pct < 0:\n",
    "        pct = 0\n",
    "\n",
    "    pct = pct / 100\n",
    "    return state[\"Trader\"][\"r_1\"]*pct\n",
    "\n",
    "def swapToAsset2_pct(state, inputs):\n",
    "    inputs[1] = pctToAmount(state, inputs[1])\n",
    "    return swapToAsset2(state, inputs)\n",
    "\n",
    "genesis = init_genesis()\n",
    "swapToAsset2_pct(genesis, [\"Trader\", 3])\n",
    "print(genesis)\n"
   ]
  },
  {
   "cell_type": "markdown",
   "metadata": {},
   "source": [
    "### Pretty Print in Fiat Values\n",
    "\n",
    "In this section, we have been completely agnostic as to the underlying value that a user's token holding may have in terms of a reference currency such as USD or EURO. Write a function fiat_print_holdings that takes in the names and prices of the tokens as a dictionary, then gives the value of the user's portfolio in the reference currency."
   ]
  },
  {
   "cell_type": "code",
   "execution_count": 166,
   "metadata": {},
   "outputs": [
    {
     "data": {
      "text/plain": [
       "800"
      ]
     },
     "execution_count": 166,
     "metadata": {},
     "output_type": "execute_result"
    }
   ],
   "source": [
    "def fiat_print_holdings(state, agent, token_1, token_2, ref_currency):\n",
    "    token_1_amount = state[agent][token_1[\"name\"]]*token_1[\"price\"]\n",
    "    token_2_amount = state[agent][token_2[\"name\"]]*token_2[\"price\"]\n",
    "    return  token_1_amount + token_2_amount\n",
    "\n",
    "state = init_genesis()\n",
    "token_1 = {\"name\": \"r_1\", \"price\": 5}\n",
    "token_2 = {\"name\":\"r_2\", \"price\": 3}\n",
    "fiat_print_holdings(state, \"Trader\", token_1, token_2 , \"USD\") "
   ]
  },
  {
   "cell_type": "markdown",
   "metadata": {},
   "source": [
    "Since the trader has holdings equivalent to 800 USD. \n",
    "This allows us to simulate impermanent loss by considering the fact that the value of the assets the trader holds may change."
   ]
  },
  {
   "cell_type": "markdown",
   "metadata": {},
   "source": [
    "### Verifying the Digital Twin\n",
    "\n",
    "To trust the results of the digital twin, we need to be completely sure that it captures the behavior of the system we designed. \n",
    "\n",
    "Looking at our finished digital Twin, we want to be sure: does it really behave as it is meant to? This needs to be verified. To do so, we create simple test scenarios through which our simulations can run. These scenarios should be simple enough that we can verify them by hand. Let us recall what we expect from a well-coded digital Twin according to the business requirements:\n",
    "\n",
    "**During a swap action,**\n",
    "- the invariant shall remain unchanged (assuming no fees)\n",
    "- the total number of tokens of Asset 1 in the system shall be unchanged\n",
    "- the total number of tokens of Asset 2 in the system shall be unchanged\n",
    "- given a specific amount of one Asset the correct amount of the other Asset shall be returned.\n",
    "\n",
    "**During a liquidity removal**\n",
    "- the total number of tokens of Asset 1 shall be unchanged,\n",
    "- the total number of tokens of Asset 2 shall be unchanged,\n",
    "- the correct number of shares shall be taken and burned,\n",
    "- the correct amount of each Asset shall be transferred.\n",
    "\n",
    "**During a liquidity insertion**\n",
    "- the total number of tokens of Asset 1 shall be unchanged,\n",
    "- the total number of tokens of Asset 2 shall be unchanged,\n",
    "- the correct number of shares shall be minted and distributed,\n",
    "the correct amount of each Asset shall be transferred.\n",
    "\n",
    "For each of these requirements we need to think about good test scenarios that our digital Twin can simulate. Looking at the list above we see that the some of the actions have requirements in common.\n",
    "\n",
    "Checking that the invariant is preserved during swap actions requires a calculation of the invariant for a given state. \n",
    "The conservation of tokens can be easily checked by counting them. \n",
    "\n",
    "Let's define three helpful functions:\n",
    "- invariant\n",
    "- asset1\n",
    "- asset2"
   ]
  },
  {
   "cell_type": "code",
   "execution_count": 167,
   "metadata": {},
   "outputs": [],
   "source": [
    "# it returns k, the invariant of the AMM \n",
    "def invariant(state):\n",
    "    return state[\"AMM\"][\"r_1\"] * state[\"AMM\"][\"r_2\"]\n",
    "\n",
    "def asset(state, asset_key):\n",
    "    sum = 0\n",
    "    for key in state:\n",
    "        sum += state[key][asset_key]\n",
    "    return sum\n",
    "\n",
    "# how many asset1 do we have in the state\n",
    "def asset1(state):\n",
    "    return asset(state, \"r_1\")\n",
    "\n",
    "# how many asset2 do we have in the state\n",
    "def asset2(state):\n",
    "    return asset(state, \"r_2\")"
   ]
  },
  {
   "cell_type": "markdown",
   "metadata": {},
   "source": [
    "First, let's use the invariant function to see if things work as intended. "
   ]
  },
  {
   "cell_type": "code",
   "execution_count": 168,
   "metadata": {},
   "outputs": [
    {
     "data": {
      "text/plain": [
       "True"
      ]
     },
     "execution_count": 168,
     "metadata": {},
     "output_type": "execute_result"
    }
   ],
   "source": [
    "genesis = init_genesis()\n",
    "\n",
    "state = copy.deepcopy(genesis)\n",
    "\n",
    "swapToAsset2(state,[\"Trader\",13])\n",
    "\n",
    "invariant(genesis)==invariant(state)"
   ]
  },
  {
   "cell_type": "markdown",
   "metadata": {},
   "source": [
    "### Verifying the System (and the Test) \n",
    "\n",
    "That is, we just create a genesis state which is then copied into the variable state that evolves through the swap action. In the last line we just check whether or not the invariance is identical for genesis state and evolved state. As can be expected, this test returns True. The same test can be performed for a swap in opposite direction. \n",
    "\n",
    "Keep in mind that the invariant is only preserved as long as there are no fees. Knowing scenarios in which the tests fail is important to verify also that the test in fact can fail: whenever possible, test the test!\n",
    "\n",
    "You Try It: Verify that the test for preserved liquidity fails if nonzero fees are set."
   ]
  },
  {
   "cell_type": "code",
   "execution_count": 169,
   "metadata": {},
   "outputs": [
    {
     "data": {
      "text/plain": [
       "False"
      ]
     },
     "execution_count": 169,
     "metadata": {},
     "output_type": "execute_result"
    }
   ],
   "source": [
    "genesis = init_genesis()\n",
    "\n",
    "state = copy.deepcopy(genesis)\n",
    "\n",
    "update_pool_fees(state, 0.3)\n",
    "\n",
    "swapToAsset2(state,[\"Trader\",13])\n",
    "\n",
    "invariant(genesis)==invariant(state)"
   ]
  },
  {
   "cell_type": "markdown",
   "metadata": {},
   "source": [
    "Now let's look at conservation of number of tokens in the system. "
   ]
  },
  {
   "cell_type": "code",
   "execution_count": 170,
   "metadata": {},
   "outputs": [
    {
     "data": {
      "text/plain": [
       "True"
      ]
     },
     "execution_count": 170,
     "metadata": {},
     "output_type": "execute_result"
    }
   ],
   "source": [
    "state = init_genesis()\n",
    "\n",
    "swapToAsset1(state,[\"Trader\",13])\n",
    "\n",
    "asset1(genesis)==asset1(state) and asset2(genesis)==asset2(state)"
   ]
  },
  {
   "cell_type": "markdown",
   "metadata": {},
   "source": [
    "### Testing Individually or In Tandem\n",
    "\n",
    "In the code block above, we combined the test for the asset1 and asset2 function. \n",
    "\n",
    "If we repeat the test for every state transition function we have coded, we can verify token conservation individually. We can also make sure this test will fail when appropriate by providing manipulated states:"
   ]
  },
  {
   "cell_type": "code",
   "execution_count": 171,
   "metadata": {},
   "outputs": [
    {
     "data": {
      "text/plain": [
       "False"
      ]
     },
     "execution_count": 171,
     "metadata": {},
     "output_type": "execute_result"
    }
   ],
   "source": [
    "genesis = {\n",
    "    \"AMM\":{\"r_1\":100,\"r_2\":100,\"s\":100,\"fee\":0.0},\n",
    "    \"Trader\":{\"r_1\":100,\"r_2\":100,\"s\":0},\n",
    "    \"Liquidator\":{\"r_1\":0,\"r_2\":0,\"s\":100}\n",
    "    }\n",
    "\n",
    "state = {\n",
    "    \"AMM\":{\"r_1\":100,\"r_2\":100,\"s\":100,\"fee\":0.0},\n",
    "    \"Trader\":{\"r_1\":0,\"r_2\":100,\"s\":0},\n",
    "    \"Liquidator\":{\"r_1\":0,\"r_2\":0,\"s\":100}\n",
    "    }\n",
    "    \n",
    "asset1(genesis)==asset1(state) and asset2(genesis)==asset2(state)"
   ]
  },
  {
   "cell_type": "markdown",
   "metadata": {},
   "source": [
    "### Providing Something Broken (on Purpose)\n",
    "\n",
    "Instead of transitioning from the genesis to the next by usage of our state transition function, we just provide the next state by hand. Observe that we have taken away all of Asset 1 from the Trader (Quite sure, he won't like that...). Now the test returns False , as expected. Now we can work on further tests.\n",
    "\n",
    "If you are doing the tests right, you usually produce far more source code for the tests than for the twin you are testing. It can easily be the case that the tests are twice as big as the system to be tested; even tests ten times bigger than the system of interest are nothing to worry about. Do not be greedy with your time when testing your system and try to think about as many test scenarios as possible! \n",
    "\n",
    "We need to think about how the system should behave in more complex scenarios and which additional properties we can derive from that. One often important thing is reversibility: as long as the invariant is preserved, there should be an inverse action to every state transition. For a swap to Asset 1 the inverse is given by those swap to Asset 2 that exchanges exactly the return of the previous swap:"
   ]
  },
  {
   "cell_type": "code",
   "execution_count": 172,
   "metadata": {},
   "outputs": [
    {
     "data": {
      "text/plain": [
       "True"
      ]
     },
     "execution_count": 172,
     "metadata": {},
     "output_type": "execute_result"
    }
   ],
   "source": [
    "genesis = {\n",
    "    \"AMM\":{\"r_1\":100,\"r_2\":100,\"s\":100,\"fee\":0.0},\n",
    "    \"Trader\":{\"r_1\":100,\"r_2\":100,\"s\":0},\n",
    "    \"Liquidator\":{\"r_1\":0,\"r_2\":0,\"s\":100}\n",
    "}\n",
    "\n",
    "state = copy.deepcopy(genesis)\n",
    "\n",
    "swapToAsset1(state,[\"Trader\",13])\n",
    "\n",
    "gained = state[\"Trader\"][\"r_1\"] - genesis[\"Trader\"][\"r_1\"]\n",
    "\n",
    "swapToAsset2(state,[\"Trader\",gained])\n",
    "\n",
    "genesis == state"
   ]
  },
  {
   "cell_type": "markdown",
   "metadata": {},
   "source": [
    "### Looking at the Function\n",
    "\n",
    "**What is Happening?**\n",
    "\n",
    "Until  the variable gained is defined, everything should be familiar to you, but what are we doing with this variable gained?\n",
    "\n",
    "We just determine how much of asset 1 the Trader obtained during their swap. This is done by calculating the differences of their possessions of asset 1 from genesis state to the state after the swap. This \"gain\" from the swap is stored in the variable gained so that it can be used later.\n",
    "\n",
    "### Swappping Back\n",
    "```\n",
    "swapToAsset2(state,[\"Trader\",gained])\n",
    "```\n",
    "On line 13 we perform a swap back to Asset 2, giving exactly the amount to the AMM that was gained in the previous swap. This should restore the state after this swap to the genesis state, which can be directly verified by checking whether the last state is identical to the genesis state in the last line.\n",
    "\n",
    "### Checking for Equivalence\n",
    "```\n",
    "genesis == state\n",
    "```\n",
    "Here we are  directly verifying  that the last state is identical to the genesis state in the last line.\n",
    "\n",
    "**You Try It:**\n",
    "\n",
    "Write a similar test for the liquidity systems that verifies that a genesis state is reproduced after inserting liquidity and removing it again.\n",
    "\n"
   ]
  },
  {
   "cell_type": "code",
   "execution_count": 173,
   "metadata": {},
   "outputs": [
    {
     "data": {
      "text/plain": [
       "True"
      ]
     },
     "execution_count": 173,
     "metadata": {},
     "output_type": "execute_result"
    }
   ],
   "source": [
    "genesis = init_genesis()\n",
    "\n",
    "state = copy.deepcopy(genesis)\n",
    "\n",
    "addLiquidity(state, [\"Trader\", 5, 5])\n",
    "\n",
    "removeLiquidity(state, [\"Trader\", 5, 5])\n",
    "\n",
    "genesis == state"
   ]
  },
  {
   "cell_type": "markdown",
   "metadata": {},
   "source": [
    "### Multiple Swap actions\n",
    "\n",
    "Now let us take a look writing the system to implement multiple swap actions. "
   ]
  },
  {
   "cell_type": "code",
   "execution_count": 174,
   "metadata": {},
   "outputs": [
    {
     "data": {
      "text/plain": [
       "Text(0, 0.5, 'Asset 2')"
      ]
     },
     "execution_count": 174,
     "metadata": {},
     "output_type": "execute_result"
    },
    {
     "data": {
      "image/png": "[encoded data removed]",
      "text/plain": [
       "<Figure size 1000x400 with 2 Axes>"
      ]
     },
     "metadata": {},
     "output_type": "display_data"
    }
   ],
   "source": [
    "genesis = {\n",
    "    \"AMM\":{\"r_1\":99,\"r_2\":1,\"s\":math.sqrt(99),\"fee\":0.0},\n",
    "    \"Trader\":{\"r_1\":1,\"r_2\":99,\"s\":0},\n",
    "    \"Liquidator\":{\"r_1\":200,\"r_2\":200,\"s\":100}\n",
    "    }\n",
    "\n",
    "actionList= [ [swapToAsset1,[\"Trader\",1]] ] * 99\n",
    "\n",
    "history = evolve(genesis, actionList)\n",
    "\n",
    "AMM_r1=[]\n",
    "Trader_r1=[]\n",
    "AMM_r2=[]\n",
    "Trader_r2=[]\n",
    "for s in history:\n",
    "    AMM_r1.append(s[\"AMM\"][\"r_1\"])\n",
    "    Trader_r1.append(s[\"Trader\"][\"r_1\"])\n",
    "    AMM_r2.append(s[\"AMM\"][\"r_2\"])\n",
    "    Trader_r2.append(s[\"Trader\"][\"r_2\"])   \n",
    "\n",
    "\n",
    "plt.figure(figsize=(10,4)) \n",
    "    \n",
    "plt.subplot(1, 2, 1) \n",
    "plt.plot(AMM_r1,AMM_r2)\n",
    "plt.title('AMM')\n",
    "plt.xlabel(\"Asset 1\")\n",
    "plt.ylabel(\"Asset 2\")\n",
    "\n",
    "plt.subplot(1, 2, 2)\n",
    "plt.plot(Trader_r1,Trader_r2)\n",
    "plt.title('Trader')\n",
    "plt.xlabel(\"Asset 1\")\n",
    "plt.ylabel(\"Asset 2\")"
   ]
  },
  {
   "cell_type": "markdown",
   "metadata": {},
   "source": [
    "### Let's explain some parts of this code \n",
    "\n",
    "Notice that we are  starting from a different genesis state. Then we create a variable actionList as a repetition  99 times of a swap to asset 1. This is a very Python-specific construction, using the multiplication operator * on a list creates multiple repetitions of the original list. \n",
    "\n",
    "You may have already spotted the word \"plot\" within the code and guessed that we want to plot something. Yes, we want to create Figures now. To do so, we need to collect the data that we want to plot and rewrite it in a format that can be used by the matplotlib package of python. To store this data in the right form, we define new variables AMM_r1, Trader_r1, AMM_r2, Trader_r2. Then, we just grab one state after another from the history in the for loop and append the respective data to the corresponding variables.\n",
    "\n",
    "Once, the data to be plotted is prepared, we make use of python's plotting functionalities. We want to plot two Figures beside one another. Hence, we need to ensure that the two Figures have enough space. This is done in the command plt.figure(figsize=(10,4)) where we tell Python the width and height of the total graphic.\n",
    "\n",
    "In the remaining code, we perform a similar process twice.  we first use the command subplot to tell python that what comes after is to be placed in the first row (consisting of 2 columns) in the first, respective second column. Then, within the command plot we tell Python what needs to be plotted. The first parameter corresponds to the x-values of the points to be drawn, the second parameter to the y-values of the points. Last but not least, each plot gets a nice title and axes labels so that we know what it shows. The result is to be seen in the figure below. \n",
    "\n",
    "The plots show the simulated data generated by our code, showing how a large number of swaps changes the overall relationship between Asset 1 and Asset 2 for both the Trader and the AMM. \n",
    "\n",
    "Does this look familiar? Yes, we've seen it before. The graph of the AMM shown here corresponds exactly to the preserved invariant: along this curve the constant product is, well, constant.\n",
    "\n",
    "**Now let's look at how the situation changes with a liquidity insertion. We execute the following code:**\n"
   ]
  },
  {
   "cell_type": "code",
   "execution_count": 176,
   "metadata": {},
   "outputs": [
    {
     "data": {
      "text/plain": [
       "Text(0, 0.5, 'Asset 2')"
      ]
     },
     "execution_count": 176,
     "metadata": {},
     "output_type": "execute_result"
    },
    {
     "data": {
      "image/png": "[encoded data removed]",
      "text/plain": [
       "<Figure size 400x400 with 1 Axes>"
      ]
     },
     "metadata": {},
     "output_type": "display_data"
    }
   ],
   "source": [
    "actionList.insert(0,[addLiquidity,[\"LP\",100,100]])\n",
    "\n",
    "genesis = {\n",
    "    \"AMM\":{\"r_1\":99,\"r_2\":1,\"s\":math.sqrt(99),\"fee\":0.0},\n",
    "    \"Trader\":{\"r_1\":1,\"r_2\":99,\"s\":0},\n",
    "    \"LP\":{\"r_1\":200,\"r_2\":200,\"s\":100}\n",
    "    }\n",
    "\n",
    "history = evolve(genesis, actionList)\n",
    "\n",
    "AMM_2r1=[]\n",
    "Trader_2r1=[]\n",
    "AMM_2r2=[]\n",
    "Trader_2r2=[]\n",
    "for s in history:\n",
    "    AMM_2r1.append(s[\"AMM\"][\"r_1\"])\n",
    "    Trader_2r1.append(s[\"Trader\"][\"r_1\"])\n",
    "    AMM_2r2.append(s[\"AMM\"][\"r_2\"])\n",
    "    Trader_2r2.append(s[\"Trader\"][\"r_2\"])   \n",
    "    \n",
    "plt.figure(figsize=(4,4)) \n",
    "plt.plot(AMM_r1,AMM_r2)\n",
    "plt.plot(AMM_2r1,AMM_2r2)\n",
    "plt.title('AMM')\n",
    "plt.xlim([0, 99])\n",
    "plt.ylim([0, 99])\n",
    "plt.xlabel(\"Asset 1\")\n",
    "plt.ylabel(\"Asset 2\")"
   ]
  },
  {
   "cell_type": "markdown",
   "metadata": {},
   "source": [
    "Performing the simulated Liquidity Insertion event creates a new orange curve with an increased invariant. \n",
    "\n",
    "As it should be, our Python-based twin reproduces the Figures that we already expect from the mathematical formulation.\n",
    "\n",
    "Now that we have verified the performance of our Digital Twin matches what we expected from the mathematical formalism in the Design Phase, we can move on to using it to explore the performance in the system.\n",
    "\n",
    "We will do that in the next section."
   ]
  },
  {
   "cell_type": "markdown",
   "metadata": {},
   "source": [
    "## Simulation Experiments and Procedures\n",
    "\n",
    "Now that we have verified the performance of our Digital Twin matches what we expected from the mathematical formalism in the Design Phase, we can move on to using it to explore the performance in the system.\n",
    "\n",
    "We will do that in the next section. \n",
    "\n",
    "### The Process and Value of Simulation\n",
    "\n",
    "For larger systems, the verification we just described will definitely not be achieved in the first iteration: you and others will make mistakes. This is no problem, as long as you identify and correct them during the verification procedure. Indeed, this is exactly the reason why we have such a  procedure at all! It will also happen that during verification you realize mistakes in the mathematical design and have to re-design parts of your system. As we have mentioned, Token Engineering is an iterative process.\n",
    "\n",
    "Once the verification is done, the simulation starts. We want to examine the behavior of our system in a more natural environment to see how well the business requirements are fulfilled and what can be optimized. This ``more natural environment'' needs to become part of our simulation Behavioral science and game theory are the tools of choice: they allow to emulate the behavior of system participants by formally describing their strategies so that the different roles can be brought to life. \n",
    "\n",
    "Once, our simulation encompasses system participants behavior, we can look at how well the overall system behaves in different scenarios. What ``well-behaved'' means in this instance needs to be precisely quantified, which leads to the design of discovery indicators and metrics. \n",
    "\n",
    "Once we know the indicators and metrics, we have a kind of ``health bar'' for our system. Our Uniswap system has exactly one knob we can turn to optimize its health: the fee. More complicated systems can have more knobs to turn (along with other controls like buttons to press, levers to pull, people to scream at,  etc.) . Each of these knobs and buttons controls a parameter that influences one or more performance indicator or metrics. How to turn the knobs and press the buttons so that optimal health is achieved? \n",
    "\n",
    "This question can be answered by optimization procedures for the system's parameters. Also, we have to account for the unpredictable behaviour of the system participants. The so called Monte Carlo algorithms allow us to introduce randomness. We need to check whether or not our system stays healthy if irrational or even malicious agents participate.\n",
    "\n",
    "## Performance Indicators and Metrics\n",
    "\n",
    "Ultimately, we use performance indicators and metrics to assess the performance of our system. \n",
    "\n",
    "A Digital Twin is like a \"what if?\" machine: Simulation through a digital twin allows us to predict the performance on these metrics in various scenarios.\n",
    "\n",
    "For our simple Uniswap we already identified two performance indicators: \n",
    "Slippage and Impermanent Loss. \n",
    "Before we look for more indicators and metrics, let us take a closer look at these two:\n",
    "\n",
    "### Review of Slippage and Impermanent Loss\n",
    "\n",
    "Slippage is the discrepancy between the theoretical return of a trade as expected from the spot price vs. the real returns once the trade is performed. They are not the same. The price you see is not the price you get. Traders do not like this. The more liquidity there is in the pool, the less the slippage is, and the happier the traders will be. \n",
    "\n",
    "Impermanent Loss is the discrepancy between holding your assets in a wallet versus providing them as liquidity to a pool. If the prices move, the liquidity provider would have been better off not providing liquidity. Liquidity providers do not like this. To encourage liquidity providers, we introduce a swap fee that reduces Impermanent Loss. However, this fee increases the discrepancy between the price the trader sees and the price of the actual trade. \n",
    "\n",
    "Within our digital Twin, we can measure the Impermanent Loss by comparing the assets in the present state of the liquidity providers to the genesis state throughout the simulation: the liquidity provider's happiness will be determined by whether or not their trades make money. \n",
    "\n",
    "There is a tradeoff between Slippage and Impermanent Loss, since decreasing slippage will increase Impermanent Loss, and vice versa. We can not optimize for both, so we must find a compromise. This is often the case with performance indicators: there is no global best, but only the choice of different compromises.\n",
    "\n",
    " We want a system that at least allows for the best possible compromise there is. This best possible compromise is the optimum we strive for. However, for slippage and Impermanent Loss in our simple Uniswap, it depends on the activity of traders and liqudiity providers, which in turn depends on the environment for our market. \n",
    "\n",
    "We have one parameter that we can set to aim for the optimum: the fee. But in more complex systems, there can be many more parameters that all have different influence on the system's performance, and we will be dealing with more than just two two indicators of slippage and Impermanent Loss. \n",
    "\n",
    "**Market Capitalization**\n",
    "\n",
    "*This is strongly related to the liquidity within our pool, i.e. the value of the constant product for our Uniswap case. Usually we want market capitalization to be as large as possible: a market likes liquidity.*\n",
    "\n",
    "**Volume**\n",
    "\n",
    "*Usually volume is measured throughout an interval of 24 hours and also denoted as 24h-volume. It tells how much value \"flowed\" through the market due to swaps and can be calculated by nominating all swaps in same currency and adding up all swaps that occurred withing the respective time interval. Volume is crucial for the market to acquire information about prices. Volume is also what generates fees and ensures profit (or at least prevents losses) for the liquidity providers.*"
   ]
  },
  {
   "cell_type": "markdown",
   "metadata": {},
   "source": [
    "### Creating new metrics from existing metrics\n",
    "\n",
    "We now have four performance indicators, and each one will be its own variable to track. Watching four numbers is not easy, so we should invest some time to think about possibilities to make our \"health bar\" a bit simpler. \n",
    "\n",
    "Let us take these indicators and combine them so that we only need to watch a single number. This single number, the \"health bar\", is our metric. However, there are many ways that these numbers can be combined. \n",
    "\n",
    "Optimizing for the aforementioned indicators is similar to:\n",
    "\n",
    "- Minimization of `(Slippage * IL)/(Liquidity * Volume)`, or \n",
    "- Minimization of `Slippage + IL- Liquidity - Volume`, or \n",
    "- Minimization of any function that increases as Slippage and IL increase, and decreases as Liquidity and Volume decrease.\n",
    "\n",
    "Also, if we combine the above metrics, we get a new metric! There are many possibilities for such combination metrics, and each has its own system-specific advantages and disadvantages. Whatever we chose as metric, let us denote it as:\n",
    "```\n",
    "m(fee,...)\n",
    "```\n",
    "a function that takes in the fee and additional parameters. The value of these parameters is usually restricted by the business requirements and the system mechanics, as well as external circumstances. These restrictions can change. \n",
    "\n",
    "Optimizing the system is nothing more than the hunt for the best possible choice of parameter settings according to the current restrictions. \n",
    "\n",
    "By setting up measurements for the system inside a function, we can use both mathematical optimization techniques and simulations to explore the system's likely behavior. "
   ]
  },
  {
   "cell_type": "markdown",
   "metadata": {},
   "source": [
    "## Using Game Theory and Behavioral Economics\n",
    "\n",
    "Now that we have a basic model of the market, we can make it more realistic by examining external factors that affect market dynamics. \n",
    "\n",
    "### Determining New Aspects of the System\n",
    "\n",
    "Simulating an isolated system is as boring as it is useless. Based on some concepts taken from behavioral science, game theory and even thermodynamics, we could end this isolation. We want to describe the system interacting with its environment.\n",
    "\n",
    "The simplest environment we can create consists just of some copies of our present AMM: just copy the respective token state and the transition functions and enumerate everything. Now we have not just one AMM, but a whole crowd of them. \n",
    "\n",
    "Alternatively or in addition, one can introduce an external market resembling a centralized exchange with infinite liquidity. This approach resembles the \"mean field approximation\" used in physics. By modifying the prices of the external market, we can simulate how our market behaves in the presence of perturbations like sudden price movements.\n",
    "\n",
    "There it is, the environment, but what about the interactions?\n",
    "\n",
    "### Looking at interactions\n",
    "\n",
    "Interaction between markets is carried by the market participants. They have to be described from a behavioral or game theoretic perspective. This is done by defining strategies or roles that can be \"played\" by the system participants:\n",
    "\n",
    "### Arbitrageurs\n",
    "\n",
    "Consider for example an Arbitrageur, a trader who aims for profit by comparing the prices of multiple markets. \n",
    "\n",
    "His strategy is quite simple: If he sees the possibility to buy something at a low price price and directly sell it at higher price at a different market, he will do so. In his doing he conveys token transfers between the respective markets until price alignment occurs. \n",
    "\n",
    "Arbitrageurs are usually the fastest traders (mainly, because they are machines \"living\" onchain rather than humans living offchain).\n",
    "\n",
    "### Speculators\n",
    "\n",
    "Then there is a more speculative trader who tries to predict the price movement. He buys what he expects to rise in price and sells what he expects to fall in price. Let us call him \"speculator\". With him, all the traditional investment strategies are to be placed: chart analysis, fundamental analysis and whatever. Implementing all these different investment strategies in or simulations would be a huge task. \n",
    "\n",
    "We definitely need simplifications since our real task is not to predict losses or profit of all single traders, but to keep an eye on our market only. The previously mentioned mean field approximation  can lead the way: instead of describing many single traders, we may try to simulate the cumulative effect they have on our market. We can try to simulate this effect by defining the speculative strategy as follows: A speculator buys when a previously constant or falling price starts to rise and he sells when a previously rising price starts to fall.\n",
    "\n",
    "### The Trader\n",
    "\n",
    "In addition to these strategies we can expect that some trades are not striving directly for profit but are motivated by the need to obtain a specific currency due to whatever reason. This could be simulated by implementing swaps between random assets at the respective market that gives the best price.\n",
    "\n",
    "### The Irrational\n",
    "\n",
    "Irrational behavior can be taken into account by implementing random swaps without any restriction concerning price.\n",
    "\n",
    "**How to Continue**\n",
    "\n",
    "From here on we have many different possibilities how to continue. \n",
    "\n",
    "### One Strategy Each\n",
    "\n",
    "Create for each of these strategies exactly one agent and analyse their profit-chances by collecting statistics about when and how much profit each of these agents makes during simulations. To do so, one would prepare a lot of different genesis states that define specific scenarios and run simulations until sufficient data is collected.\n",
    "\n",
    "### Dynamic Choices of Strategies\n",
    "\n",
    "Create an arbitrary number of agents but let each of them chose strategy dynamically: after specific random time steps, the agent takes a look at the history and changes his strategy to those that resulted in the most profit. This approach allows to look for so called Nash equilibria, that is, a stable evolution of the system in which no agent sees the need to change strategy. The presence or absence of such equilibria can be of great importance for the health of our system.\n",
    "\n",
    "## Looking at Analytics from Simulation\n",
    "\n",
    "When performing simulations, one should think in advance about what, how and why to analyze. Without defining this in advance it can happen that the wrong data is collected. Let us collect some usual research questions one should or could strive to find an answer to:\n",
    "\n",
    "- Are there scenarios in which specific properties, variables, parameters, indicators or metrics start to grow exponentially or vanish? If so: Is this wanted or problematic?\n",
    "- Are there oscillations of properties, variables, parameters, indicators or metrics observable? If so, are they of exploding, sustained or dampened nature? Do they pose a danger?\n",
    "- Are there any Nash equilibria that correspond to an unhealthy system?\n",
    "\n",
    "During the search for answers to these questions, one is advised to analyze each unwanted scenario as well as possible. The aim is, to identify specific metrics that identify such bad scenarios; for instance, we might design a metric that returns a high value in bad scenarios and a low value in good scenarios. Once such metrics are identified, we can strive for an optimization of the system's parameter selection procedures.\n",
    "\n",
    "Once the appropriate metrics are identified, we can strive for an optimization of the system's parameter selection procedures.\n",
    "\n",
    "Now we turn our attention to the tools for optimizing these procedures. "
   ]
  },
  {
   "cell_type": "markdown",
   "metadata": {},
   "source": [
    "## Optimization Techniques\n",
    "\n",
    "Given a metric `m(f)` that depends on the single parameter f (e.g. the fee), how do we find those value for f that minimizes the metric m? Assume that f has to be between 0.01 and 0.1 (corresponding to a fee of 1% and 10% respectively).\n",
    "\n",
    "One possibility is just given by brute force, or strategic trial and error: run simulations for different choices, determine the value of the metric and after the fee has run from $0.01$ to $0.1$ just select those value that resulted in the lowest metric. Such an approach is also called a Parameter Sweep; it is commonly used in cadCAD. It has the advantage that it is relatively simple to implement, but can require a  lot of computational resources since you are running the simulation multiple times. \n",
    "\n",
    "An alternative, a bit more elaborate possibilities is based on a so called gradient climb. Instead of performing the trial and error throughout the whole interval our parameters is restricted to, we just take the present value f for the parameter, chose an arbitrary stepwidth s and perform these steps:\n",
    "\n",
    "1. If `m(f-s)` is lower than `m(f)`, we chose `f-s` as our new value for the parameter.\n",
    "2. If `m(f+s)` is lower than `m(f)`, we chose `f+s` as our new value for the parameters.\n",
    "3. Should neither of the two be the case, we reduce the stepwidth s and try again.\n",
    "4. With this new value of `f` we just repeat the procedure until the stepwidth `s` has become small enough.\n",
    "\n",
    "If we are seeking to minimize a function, the way that these values progress according to this algorithm is similar to a ball rolling down a hill. \n",
    "\n",
    "There are even more elaborate methods like `simulated annealing` or `\"swarm-based algorithms\"`, to mention some. There is an immense toolkit of ways to optimize a mathematical function, many of which are in existing Python libraries. This is one place where mathematics and computation are very important for a Token Engineer to know. "
   ]
  },
  {
   "cell_type": "markdown",
   "metadata": {},
   "source": [
    "## Conclusion and next steps\n",
    "\n",
    "We have discussed basic techniques for translating mathematical formulas describing the system into code that enables simulation of the system.\n",
    "\n",
    "## Other Software Tools for Token Engineering\n",
    "\n",
    "In the previous section, we implemented a simulation model in base Python. Python is a popular language for getting started, as it blends power and simplicity very well. \n",
    "\n",
    "There are other tools that are often used in the Token Engineering community. We encourage you to explore these on your own, as there are multiple resources available. \n",
    "\n",
    "- [cadCAD](http://cadcad.org/). cadCAD is a simulation tool for complex adaptive systems, of which cryptoeconomic systems are one type. It has been used in the modeling and simulation of a number of token projects, including [RAI](https://medium.com/tokenengineering/rai-workshops-modeling-the-money-god-9626cc883a5). You can learn more about the tool (including beginner-friendly tutorial courses) at [cadcad.org](https://cadcad.org/).\n",
    "- [TokenSPICE](https://github.com/tokenspice/tokenspice). TokenSPICE is an agent-based simulation engine based on the Ethereum Virtual Machine. It differs from cadCAD in its specific focus on tokenomics at the level of the token address. Find more information on [GitHub](https://github.com/tokenspice/tokenspice) or [Twitter](https://github.com/tokenspice/tokenspice).\n",
    "- [Machinations](https://machinations.io/). A graphical tool that makes it possible to simulate systems without writing code (though it is possible to add code that extends functionality). Machinations is already popular for modeling digital game economies. Find out more information at [the official webpage](https://machinations.io/)."
   ]
  }
 ],
 "metadata": {
  "interpreter": {
   "hash": "31f2aee4e71d21fbe5cf8b01ff0e069b9275f58929596ceb00d14d90e3e16cd6"
  },
  "kernelspec": {
   "display_name": "Python 3.8.9 64-bit",
   "language": "python",
   "name": "python3"
  },
  "language_info": {
   "codemirror_mode": {
    "name": "ipython",
    "version": 3
   },
   "file_extension": ".py",
   "mimetype": "text/x-python",
   "name": "python",
   "nbconvert_exporter": "python",
   "pygments_lexer": "ipython3",
   "version": "3.9.6"
  },
  "varInspector": {
   "cols": {
    "lenName": 16,
    "lenType": 16,
    "lenVar": 40
   },
   "kernels_config": {
    "python": {
     "delete_cmd_postfix": "",
     "delete_cmd_prefix": "del ",
     "library": "var_list.py",
     "varRefreshCmd": "print(var_dic_list())"
    },
    "r": {
     "delete_cmd_postfix": ") ",
     "delete_cmd_prefix": "rm(",
     "library": "var_list.r",
     "varRefreshCmd": "cat(var_dic_list()) "
    }
   },
   "types_to_exclude": [
    "module",
    "function",
    "builtin_function_or_method",
    "instance",
    "_Feature"
   ],
   "window_display": false
  }
 },
 "nbformat": 4,
 "nbformat_minor": 4
}
